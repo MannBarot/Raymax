{
 "cells": [
  {
   "cell_type": "code",
   "execution_count": null,
   "id": "9f3a03a2",
   "metadata": {},
   "outputs": [],
   "source": [
    "#Connecting to Reachy\n",
    "from reachy_sdk import ReachySDK\n",
    "#ip_address = [function to get ip address to be implemented in the future]\n",
    "reachy = ReachySDK(host='172.18.78.99') #ensure updated IP\n"
   ]
  },
  {
   "cell_type": "code",
   "execution_count": 10,
   "id": "e18f45a7",
   "metadata": {},
   "outputs": [],
   "source": [
    "#turning on stiff mode for controlling\n",
    "reachy.turn_on('l_arm')"
   ]
  },
  {
   "cell_type": "code",
   "execution_count": 6,
   "id": "eb9fe6b3",
   "metadata": {},
   "outputs": [],
   "source": [
    "#goto() Imports\n",
    "\n",
    "from reachy_sdk.trajectory import goto\n",
    "from reachy_sdk.trajectory.interpolation import InterpolationMode"
   ]
  },
  {
   "cell_type": "code",
   "execution_count": 16,
   "id": "05511a45",
   "metadata": {},
   "outputs": [],
   "source": [
    "#pinching left hand example\n",
    "pinching_left_hand = {\n",
    "    #reachy.l_arm.l_gripper: -12, #closed\n",
    "    reachy.l_arm.l_gripper: 35, #open\n",
    "}\n",
    "\n",
    "goto(\n",
    "    goal_positions = pinching_left_hand,\n",
    "    duration = 10.0,\n",
    "    interpolation_mode=InterpolationMode.MINIMUM_JERK,\n",
    ")\n"
   ]
  },
  {
   "cell_type": "code",
   "execution_count": 9,
   "id": "483ca4e3",
   "metadata": {},
   "outputs": [],
   "source": [
    "#turning off stiff mode\n",
    "#example: reachy.turn_off_smoothly('r_arm')\n",
    "\n",
    "reachy.turn_off_smoothly('r_arm')"
   ]
  }
 ],
 "metadata": {
  "kernelspec": {
   "display_name": "Python 3",
   "language": "python",
   "name": "python3"
  },
  "language_info": {
   "codemirror_mode": {
    "name": "ipython",
    "version": 3
   },
   "file_extension": ".py",
   "mimetype": "text/x-python",
   "name": "python",
   "nbconvert_exporter": "python",
   "pygments_lexer": "ipython3",
   "version": "3.10.6"
  }
 },
 "nbformat": 4,
 "nbformat_minor": 5
}
