{
 "cells": [
  {
   "cell_type": "code",
   "execution_count": null,
   "id": "787fc476",
   "metadata": {},
   "outputs": [],
   "source": [
    "#OpenCV demo\n",
    "import cv2 as cv\n",
    "\n",
    "while True:\n",
    "    # This let you access the last frame grabbed by Reachy left eye\n",
    "    # It's always the most up-to-date image\n",
    "    left_image = reachy.left_camera.last_frame\n",
    "\n",
    "    cv.imshow('left image', left_image)"
   ]
  }
 ],
 "metadata": {
  "kernelspec": {
   "display_name": "Python 3 (ipykernel)",
   "language": "python",
   "name": "python3"
  },
  "language_info": {
   "codemirror_mode": {
    "name": "ipython",
    "version": 3
   },
   "file_extension": ".py",
   "mimetype": "text/x-python",
   "name": "python",
   "nbconvert_exporter": "python",
   "pygments_lexer": "ipython3",
   "version": "3.10.6"
  }
 },
 "nbformat": 4,
 "nbformat_minor": 5
}
